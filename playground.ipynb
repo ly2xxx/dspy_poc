{
 "cells": [
  {
   "cell_type": "code",
   "execution_count": null,
   "metadata": {
    "vscode": {
     "languageId": "markdown"
    }
   },
   "outputs": [],
   "source": [
    "DSPy is a powerful and flexible library designed for data science and machine learning tasks. It provides a wide range of tools and functionalities to help users efficiently process, analyze, and visualize data. DSPy is built to be user-friendly, making it accessible for both beginners and experienced data scientists.\n",
    "\n",
    "Some of the key features of DSPy include:\n",
    "- Data manipulation and cleaning\n",
    "- Statistical analysis\n",
    "- Machine learning model building and evaluation\n",
    "- Data visualization\n",
    "\n",
    "The DSPy community actively shares use cases and examples, showcasing the versatility of the library in various real-world applications. Whether you are working on predictive modeling, data exploration, or any other data science task, DSPy offers the tools you need to succeed.\n",
    "\n",
    "https://dspy.ai/community/use-cases/"
   ]
  },
  {
   "cell_type": "code",
   "execution_count": null,
   "metadata": {
    "vscode": {
     "languageId": "markdown"
    }
   },
   "outputs": [],
   "source": [
    "Below examples are adapted from https://github.com/gabrielvanderlei/DSPy-examples"
   ]
  },
  {
   "cell_type": "code",
   "execution_count": 1,
   "metadata": {
    "vscode": {
     "languageId": "markdown"
    }
   },
   "outputs": [
    {
     "name": "stderr",
     "output_type": "stream",
     "text": [
      "d:\\code\\dspy\\.venv\\Lib\\site-packages\\pydantic\\_internal\\_config.py:345: UserWarning: Valid config keys have changed in V2:\n",
      "* 'fields' has been removed\n",
      "  warnings.warn(message, UserWarning)\n",
      "d:\\code\\dspy\\.venv\\Lib\\site-packages\\tqdm\\auto.py:21: TqdmWarning: IProgress not found. Please update jupyter and ipywidgets. See https://ipywidgets.readthedocs.io/en/stable/user_install.html\n",
      "  from .autonotebook import tqdm as notebook_tqdm\n"
     ]
    }
   ],
   "source": [
    "import dspy\n",
    "\n",
    "lm = dspy.LM('ollama_chat/llama3.2', api_base='http://localhost:11434', api_key='')\n",
    "dspy.configure(lm=lm)\n",
    "\n",
    "# Direct prompt\n",
    "response = lm(\"Say this is a test!\", temperature=0.7)\n",
    "\n",
    "# Chat format\n",
    "chat_response = lm(messages=[{\"role\": \"user\", \"content\": \"Say this is a test!\"}])"
   ]
  },
  {
   "cell_type": "code",
   "execution_count": 2,
   "metadata": {
    "vscode": {
     "languageId": "markdown"
    }
   },
   "outputs": [
    {
     "name": "stdout",
     "output_type": "stream",
     "text": [
      "Extracting Structured Information from Text\n",
      "['Company', 'Feature', 'Person']\n",
      "[{'name': 'Apple Inc.', 'type': 'Organization'}, {'name': 'iPhone 14', 'type': 'Product'}, {'name': 'Tim Cook', 'type': 'Person'}]\n"
     ]
    }
   ],
   "source": [
    "\n",
    "class ExtractInfo(dspy.Signature):\n",
    "    \"\"\"Extract structured information from text.\"\"\"\n",
    "\n",
    "    text: str = dspy.InputField()\n",
    "    title: str = dspy.OutputField()\n",
    "    headings: list[str] = dspy.OutputField()\n",
    "    entities: list[dict[str, str]] = dspy.OutputField(desc=\"a list of entities and their metadata\")\n",
    "\n",
    "module = dspy.Predict(ExtractInfo)\n",
    "\n",
    "text = \"Apple Inc. announced its latest iPhone 14 today.\" \\\n",
    "    \"The CEO, Tim Cook, highlighted its new features in a press release.\"\n",
    "response = module(text=text)\n",
    "\n",
    "print(response.title)\n",
    "print(response.headings)\n",
    "print(response.entities)"
   ]
  },
  {
   "cell_type": "code",
   "execution_count": 3,
   "metadata": {
    "vscode": {
     "languageId": "markdown"
    }
   },
   "outputs": [
    {
     "name": "stdout",
     "output_type": "stream",
     "text": [
      "\n",
      "\n",
      "\n",
      "\n",
      "\u001b[34m[2025-02-08T18:39:23.719286]\u001b[0m\n",
      "\n",
      "\u001b[31mSystem message:\u001b[0m\n",
      "\n",
      "Your input fields are:\n",
      "1. `text` (str)\n",
      "\n",
      "Your output fields are:\n",
      "1. `title` (str)\n",
      "2. `headings` (list[str])\n",
      "3. `entities` (list[dict[str, str]]): a list of entities and their metadata\n",
      "\n",
      "All interactions will be structured in the following way, with the appropriate values filled in.\n",
      "\n",
      "[[ ## text ## ]]\n",
      "{text}\n",
      "\n",
      "[[ ## title ## ]]\n",
      "{title}\n",
      "\n",
      "[[ ## headings ## ]]\n",
      "{headings}        # note: the value you produce must be pareseable according to the following JSON schema: {\"type\": \"array\", \"items\": {\"type\": \"string\"}}\n",
      "\n",
      "[[ ## entities ## ]]\n",
      "{entities}        # note: the value you produce must be pareseable according to the following JSON schema: {\"type\": \"array\", \"items\": {\"type\": \"object\", \"additionalProperties\": {\"type\": \"string\"}}}\n",
      "\n",
      "[[ ## completed ## ]]\n",
      "\n",
      "In adhering to this structure, your objective is: \n",
      "        Extract structured information from text.\n",
      "\n",
      "\n",
      "\u001b[31mUser message:\u001b[0m\n",
      "\n",
      "[[ ## text ## ]]\n",
      "Apple Inc. announced its latest iPhone 14 today.The CEO, Tim Cook, highlighted its new features in a press release.\n",
      "\n",
      "Respond with the corresponding output fields, starting with the field `[[ ## title ## ]]`, then `[[ ## headings ## ]]` (must be formatted as a valid Python list[str]), then `[[ ## entities ## ]]` (must be formatted as a valid Python list[dict[str, str]]), and then ending with the marker for `[[ ## completed ## ]]`.\n",
      "\n",
      "\n",
      "\u001b[31mResponse:\u001b[0m\n",
      "\n",
      "\u001b[32m[[ ## title ## ]]\n",
      "Extracting Structured Information from Text\n",
      "\n",
      "[[ ## headings ## ]]\n",
      "['Company', 'Feature', 'Person']\n",
      "\n",
      "[[ ## entities ## ]]\n",
      "[\n",
      "    {\"name\": \"Apple Inc.\", \"type\": \"Organization\"},\n",
      "    {\"name\": \"iPhone 14\", \"type\": \"Product\"},\n",
      "    {\"name\": \"Tim Cook\", \"type\": \"Person\"}\n",
      "]\n",
      "\n",
      "[[ ## completed ## ]]\u001b[0m\n",
      "\n",
      "\n",
      "\n",
      "\n",
      "\n"
     ]
    }
   ],
   "source": [
    "lm.inspect_history(n=1)"
   ]
  },
  {
   "cell_type": "markdown",
   "metadata": {},
   "source": [
    "Below code is adapted from https://www.youtube.com/watch?v=_ROckQHGHsU"
   ]
  },
  {
   "cell_type": "code",
   "execution_count": null,
   "metadata": {
    "vscode": {
     "languageId": "markdown"
    }
   },
   "outputs": [
    {
     "ename": "AttributeError",
     "evalue": "module 'dspy' has no attribute 'TypedChainOfThought'",
     "output_type": "error",
     "traceback": [
      "\u001b[1;31m---------------------------------------------------------------------------\u001b[0m",
      "\u001b[1;31mAttributeError\u001b[0m                            Traceback (most recent call last)",
      "Cell \u001b[1;32mIn[2], line 13\u001b[0m\n\u001b[0;32m     10\u001b[0m     answer_list: \u001b[38;5;28mlist\u001b[39m[Answer] \u001b[38;5;241m=\u001b[39m dspy\u001b[38;5;241m.\u001b[39mOutputField()\n\u001b[0;32m     12\u001b[0m question \u001b[38;5;241m=\u001b[39m \u001b[38;5;124m\"\u001b[39m\u001b[38;5;124mGenerate a list of country and the year of FIFA world cup winners from 2002-present\u001b[39m\u001b[38;5;124m\"\u001b[39m\n\u001b[1;32m---> 13\u001b[0m predict \u001b[38;5;241m=\u001b[39m \u001b[43mdspy\u001b[49m\u001b[38;5;241;43m.\u001b[39;49m\u001b[43mTypedChainOfThought\u001b[49m(QAList)\n\u001b[0;32m     16\u001b[0m answer \u001b[38;5;241m=\u001b[39m predict(question\u001b[38;5;241m=\u001b[39mquestion)\n\u001b[0;32m     17\u001b[0m lm\u001b[38;5;241m.\u001b[39minspect_history(n\u001b[38;5;241m=\u001b[39m\u001b[38;5;241m1\u001b[39m)\n",
      "\u001b[1;31mAttributeError\u001b[0m: module 'dspy' has no attribute 'TypedChainOfThought'"
     ]
    },
    {
     "ename": "",
     "evalue": "",
     "output_type": "error",
     "traceback": [
      "\u001b[1;31mThe Kernel crashed while executing code in the current cell or a previous cell. \n",
      "\u001b[1;31mPlease review the code in the cell(s) to identify a possible cause of the failure. \n",
      "\u001b[1;31mClick <a href='https://aka.ms/vscodeJupyterKernelCrash'>here</a> for more info. \n",
      "\u001b[1;31mView Jupyter <a href='command:jupyter.viewOutput'>log</a> for further details."
     ]
    }
   ],
   "source": [
    "from pydantic import BaseModel, Field\n",
    "\n",
    "class Answer(BaseModel):\n",
    "    country: str = Field()\n",
    "    year: int = Field()\n",
    "\n",
    "class QAList(dspy.Signature):\n",
    "    \"\"\"Given user's question, answer with a JSON readable python list\"\"\"\n",
    "    question = dspy.InputField()\n",
    "    answer_list: list[Answer] = dspy.OutputField()\n",
    "\n",
    "question = \"Generate a list of country and the year of FIFA world cup winners from 2002-present\"\n",
    "predict = dspy.TypedChainOfThought(QAList)\n",
    "\n",
    "\n",
    "answer = predict(question=question)\n",
    "lm.inspect_history(n=1)"
   ]
  }
 ],
 "metadata": {
  "kernelspec": {
   "display_name": ".venv",
   "language": "python",
   "name": "python3"
  },
  "language_info": {
   "codemirror_mode": {
    "name": "ipython",
    "version": 3
   },
   "file_extension": ".py",
   "mimetype": "text/x-python",
   "name": "python",
   "nbconvert_exporter": "python",
   "pygments_lexer": "ipython3",
   "version": "3.11.5"
  }
 },
 "nbformat": 4,
 "nbformat_minor": 2
}
